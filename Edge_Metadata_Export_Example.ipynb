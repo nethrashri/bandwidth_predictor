{
 "cells": [
  {
   "cell_type": "code",
   "execution_count": null,
   "id": "4de9e07e-d9b1-4b0a-bf80-2eba4df17871",
   "metadata": {},
   "outputs": [],
   "source": [
    "import os\n",
    "import json\n",
    "import numpy as np\n",
    "\n",
    "def export_edge_metadata(predictor, output_dir=\"edge_metadata\"):\n",
    "    \"\"\"Export all necessary metadata for edge deployment\"\"\"\n",
    "    os.makedirs(output_dir, exist_ok=True)\n",
    "    \n",
    "    # Custom JSON encoder for NumPy types\n",
    "    class NumpyEncoder(json.JSONEncoder):\n",
    "        def default(self, obj):\n",
    "            if isinstance(obj, (np.integer, np.int64)):\n",
    "                return int(obj)\n",
    "            elif isinstance(obj, (np.floating, np.float64)):\n",
    "                return float(obj)\n",
    "            elif isinstance(obj, np.ndarray):\n",
    "                return obj.tolist()\n",
    "            return super(NumpyEncoder, self).default(obj)\n",
    "    \n",
    "    # 1. Export service mappings\n",
    "    with open(os.path.join(output_dir, \"service_mappings.json\"), \"w\") as f:\n",
    "        json.dump(predictor.service_mappings, f, indent=2, cls=NumpyEncoder)\n",
    "    \n",
    "    # 2. Export service group stats\n",
    "    with open(os.path.join(output_dir, \"service_group_stats.json\"), \"w\") as f:\n",
    "        json.dump(predictor.service_group_stats, f, indent=2, cls=NumpyEncoder)\n",
    "    \n",
    "    # 3. Export feature list\n",
    "    feature_info = {\n",
    "        \"basic_features\": predictor.basic_features,\n",
    "        \"network_features\": predictor.network_features,\n",
    "        \"time_features\": predictor.time_features,\n",
    "        \"hour_features\": predictor.hour_features,\n",
    "        \"day_features\": predictor.day_features,\n",
    "        \"all_features\": predictor.features\n",
    "    }\n",
    "    with open(os.path.join(output_dir, \"feature_list.json\"), \"w\") as f:\n",
    "        json.dump(feature_info, f, indent=2)\n",
    "    \n",
    "    # 4. Export scaler parameters\n",
    "    scaler_params = {}\n",
    "    for service_group, scalers in predictor.scalers.items():\n",
    "        feature_scaler = scalers['features']\n",
    "        target_scaler = scalers['target']\n",
    "        \n",
    "        scaler_params[service_group] = {\n",
    "            \"features\": {\n",
    "                \"min\": feature_scaler.min_.tolist(),\n",
    "                \"scale\": feature_scaler.scale_.tolist()\n",
    "            },\n",
    "            \"target\": {\n",
    "                \"min\": target_scaler.min_.tolist(),\n",
    "                \"scale\": target_scaler.scale_.tolist()\n",
    "            }\n",
    "        }\n",
    "    with open(os.path.join(output_dir, \"scalers.json\"), \"w\") as f:\n",
    "        json.dump(scaler_params, f, indent=2)\n",
    "    \n",
    "    print(f\"Exported all metadata to {output_dir}\")\n",
    "    \n",
    "    # 5. Create README with instructions\n",
    "    readme = \"\"\"# Edge Deployment Metadata\n",
    "    \n",
    "This directory contains all necessary metadata for deploying bandwidth prediction models on edge devices:\n",
    "\n",
    "- service_mappings.json: Maps service groups to IDs and services\n",
    "- service_group_stats.json: Statistical information about service groups\n",
    "- feature_list.json: List of features used in the models\n",
    "- scalers.json: Scaling parameters for inputs and outputs\n",
    "\n",
    "See edge_deployment.py for implementation details.\n",
    "\"\"\"\n",
    "    with open(os.path.join(output_dir, \"README.md\"), \"w\") as f:\n",
    "        f.write(readme)"
   ]
  },
  {
   "cell_type": "code",
   "execution_count": null,
   "id": "e6cb490d-c58b-4ebf-a921-5722b99be493",
   "metadata": {},
   "outputs": [],
   "source": []
  },
  {
   "cell_type": "markdown",
   "id": "ea85413e-a50a-40f3-817f-073464e8cf05",
   "metadata": {},
   "source": [
    "To use this function, simply call it after training the models:\n"
   ]
  },
  {
   "cell_type": "code",
   "execution_count": null,
   "id": "0a2d2c8d-12a2-44b4-a150-e4efb8006738",
   "metadata": {},
   "outputs": [],
   "source": [
    "# Train models\n",
    "predictor = BandwidthAllocationPredictor(dataset_path='network_dataset.csv')\n",
    "predictor.train_models(epochs=20)\n",
    "\n",
    "# Export metadata for edge deployment\n",
    "export_edge_metadata(predictor, \"edge_metadata\")"
   ]
  }
 ],
 "metadata": {
  "kernelspec": {
   "display_name": "Python 3 (ipykernel)",
   "language": "python",
   "name": "python3"
  },
  "language_info": {
   "codemirror_mode": {
    "name": "ipython",
    "version": 3
   },
   "file_extension": ".py",
   "mimetype": "text/x-python",
   "name": "python",
   "nbconvert_exporter": "python",
   "pygments_lexer": "ipython3",
   "version": "3.11.5"
  }
 },
 "nbformat": 4,
 "nbformat_minor": 5
}
